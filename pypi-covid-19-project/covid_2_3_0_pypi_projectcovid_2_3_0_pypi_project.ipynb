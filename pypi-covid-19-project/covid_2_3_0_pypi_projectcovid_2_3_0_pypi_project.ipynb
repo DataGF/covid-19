{
  "nbformat": 4,
  "nbformat_minor": 0,
  "metadata": {
    "colab": {
      "name": "covid 2.3.0 pypi project.ipynb",
      "provenance": [],
      "authorship_tag": "ABX9TyPFvFaoL9d3kLFAC03Xtnhv",
      "include_colab_link": true
    },
    "kernelspec": {
      "name": "python3",
      "display_name": "Python 3"
    }
  },
  "cells": [
    {
      "cell_type": "markdown",
      "metadata": {
        "id": "view-in-github",
        "colab_type": "text"
      },
      "source": [
        "<a href=\"https://colab.research.google.com/github/DataGF/covid-19/blob/master/covid_2_3_0_pypi_project.ipynb\" target=\"_parent\"><img src=\"https://colab.research.google.com/assets/colab-badge.svg\" alt=\"Open In Colab\"/></a>"
      ]
    },
    {
      "cell_type": "code",
      "metadata": {
        "id": "8x5t19dX5lmd",
        "colab_type": "code",
        "colab": {
          "base_uri": "https://localhost:8080/",
          "height": 391
        },
        "outputId": "7036675c-dc29-4e73-df51-cc0843a9edd3"
      },
      "source": [
        "# install\n",
        "!pip install covid"
      ],
      "execution_count": 1,
      "outputs": [
        {
          "output_type": "stream",
          "text": [
            "Collecting covid\n",
            "  Downloading https://files.pythonhosted.org/packages/59/73/a56355a172dcc3725f4af48160861d157ff69173670ee9499eb2d965d4e9/covid-2.3.0.tar.gz\n",
            "  Installing build dependencies ... \u001b[?25l\u001b[?25hdone\n",
            "  Getting requirements to build wheel ... \u001b[?25l\u001b[?25hdone\n",
            "    Preparing wheel metadata ... \u001b[?25l\u001b[?25hdone\n",
            "Requirement already satisfied: beautifulsoup4 in /usr/local/lib/python3.6/dist-packages (from covid) (4.6.3)\n",
            "Requirement already satisfied: requests in /usr/local/lib/python3.6/dist-packages (from covid) (2.23.0)\n",
            "Collecting pydantic\n",
            "\u001b[?25l  Downloading https://files.pythonhosted.org/packages/aa/5f/855412ad12817ae87f1c77d3af2fc384eaed3adfb8f3994816d75483fa20/pydantic-1.6.1-cp36-cp36m-manylinux2014_x86_64.whl (8.7MB)\n",
            "\u001b[K     |████████████████████████████████| 8.7MB 3.8MB/s \n",
            "\u001b[?25hRequirement already satisfied: certifi>=2017.4.17 in /usr/local/lib/python3.6/dist-packages (from requests->covid) (2020.6.20)\n",
            "Requirement already satisfied: chardet<4,>=3.0.2 in /usr/local/lib/python3.6/dist-packages (from requests->covid) (3.0.4)\n",
            "Requirement already satisfied: idna<3,>=2.5 in /usr/local/lib/python3.6/dist-packages (from requests->covid) (2.10)\n",
            "Requirement already satisfied: urllib3!=1.25.0,!=1.25.1,<1.26,>=1.21.1 in /usr/local/lib/python3.6/dist-packages (from requests->covid) (1.24.3)\n",
            "Requirement already satisfied: dataclasses>=0.6; python_version < \"3.7\" in /usr/local/lib/python3.6/dist-packages (from pydantic->covid) (0.7)\n",
            "Building wheels for collected packages: covid\n",
            "  Building wheel for covid (PEP 517) ... \u001b[?25l\u001b[?25hdone\n",
            "  Created wheel for covid: filename=covid-2.3.0-cp36-none-any.whl size=8441 sha256=3b03e57dd80b63b247312ac7133265313ef9005eee897d9dab0cb6182903aff6\n",
            "  Stored in directory: /root/.cache/pip/wheels/77/cd/8a/87daba9dc6274aa4b705f29698faeafd0f51af78e29e984c1a\n",
            "Successfully built covid\n",
            "Installing collected packages: pydantic, covid\n",
            "Successfully installed covid-2.3.0 pydantic-1.6.1\n"
          ],
          "name": "stdout"
        }
      ]
    },
    {
      "cell_type": "code",
      "metadata": {
        "id": "q42IVeDE5raX",
        "colab_type": "code",
        "colab": {}
      },
      "source": [
        "# get package\n",
        "from covid import Covid"
      ],
      "execution_count": 2,
      "outputs": []
    },
    {
      "cell_type": "code",
      "metadata": {
        "id": "U9DXtPW650i9",
        "colab_type": "code",
        "colab": {}
      },
      "source": [
        "# set variable\n",
        "covid = Covid()"
      ],
      "execution_count": 4,
      "outputs": []
    },
    {
      "cell_type": "code",
      "metadata": {
        "id": "Qaf2ZAwR56-w",
        "colab_type": "code",
        "colab": {
          "base_uri": "https://localhost:8080/",
          "height": 34
        },
        "outputId": "06521947-3561-4c54-9acb-1091a5dbf1fc"
      },
      "source": [
        "# print world's total active cases\n",
        "print(covid.get_total_active_cases())"
      ],
      "execution_count": 5,
      "outputs": [
        {
          "output_type": "stream",
          "text": [
            "7236012\n"
          ],
          "name": "stdout"
        }
      ]
    },
    {
      "cell_type": "code",
      "metadata": {
        "id": "HAHpAWb066nC",
        "colab_type": "code",
        "colab": {
          "base_uri": "https://localhost:8080/",
          "height": 34
        },
        "outputId": "5b9fbd72-86fb-42ba-dd01-b475e804e36f"
      },
      "source": [
        "# print world's total deaths\n",
        "print(covid.get_total_deaths())"
      ],
      "execution_count": 6,
      "outputs": [
        {
          "output_type": "stream",
          "text": [
            "772452\n"
          ],
          "name": "stdout"
        }
      ]
    },
    {
      "cell_type": "code",
      "metadata": {
        "id": "8Rr-JLlB7ApH",
        "colab_type": "code",
        "colab": {
          "base_uri": "https://localhost:8080/",
          "height": 34
        },
        "outputId": "288f1858-0e1d-4c49-8009-d7261754b417"
      },
      "source": [
        "# print world's total confirmed cases\n",
        "print(covid.get_total_confirmed_cases())"
      ],
      "execution_count": 7,
      "outputs": [
        {
          "output_type": "stream",
          "text": [
            "21808197\n"
          ],
          "name": "stdout"
        }
      ]
    },
    {
      "cell_type": "code",
      "metadata": {
        "id": "byoxU4hs75S-",
        "colab_type": "code",
        "colab": {
          "base_uri": "https://localhost:8080/",
          "height": 34
        },
        "outputId": "7a5ed91b-4eed-43d8-998b-b63869215ba6"
      },
      "source": [
        "# print brazil's status about covid-19\n",
        "print(covid.get_status_by_country_name(\"brazil\"))"
      ],
      "execution_count": 9,
      "outputs": [
        {
          "output_type": "stream",
          "text": [
            "{'id': '24', 'country': 'Brazil', 'confirmed': 3359570, 'active': 552418, 'deaths': 108536, 'recovered': 2698616, 'latitude': -14.235, 'longitude': -51.9253, 'last_update': 1597706853000}\n"
          ],
          "name": "stdout"
        }
      ]
    }
  ]
}
